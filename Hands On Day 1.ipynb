{
 "cells": [
  {
   "cell_type": "code",
   "execution_count": 1,
   "id": "2adebb03-2303-46d3-b584-4df0a9364253",
   "metadata": {},
   "outputs": [],
   "source": [
    "# declare a variable\n",
    "# variables are the containers used to store any data types\n",
    "X=10"
   ]
  },
  {
   "cell_type": "code",
   "execution_count": 2,
   "id": "ec7ad253-362f-4d3d-a6ab-cdf155a267e9",
   "metadata": {},
   "outputs": [
    {
     "name": "stdout",
     "output_type": "stream",
     "text": [
      "10\n"
     ]
    }
   ],
   "source": [
    "# print the variable\n",
    "print(X)"
   ]
  },
  {
   "cell_type": "code",
   "execution_count": 3,
   "id": "7ccd1c6c-1012-4265-b26b-ce129f38b541",
   "metadata": {},
   "outputs": [
    {
     "data": {
      "text/plain": [
       "int"
      ]
     },
     "execution_count": 3,
     "metadata": {},
     "output_type": "execute_result"
    }
   ],
   "source": [
    "# check the datatype of the variable\n",
    "type(X)"
   ]
  },
  {
   "cell_type": "code",
   "execution_count": 4,
   "id": "0f529f71-e918-4ef7-a79c-ac41a3b965d8",
   "metadata": {},
   "outputs": [
    {
     "name": "stdout",
     "output_type": "stream",
     "text": [
      "datatype of the variable  <class 'int'>\n"
     ]
    }
   ],
   "source": [
    "# create an integer datatype\n",
    "int_1=20\n",
    "\n",
    "# show the datatype\n",
    "print('datatype of the variable ',type(int_1))"
   ]
  },
  {
   "cell_type": "code",
   "execution_count": 5,
   "id": "c314e51b-87d8-424a-adcb-2b9b36d2518f",
   "metadata": {},
   "outputs": [
    {
     "name": "stdout",
     "output_type": "stream",
     "text": [
      "datatype of the variable  <class 'float'>\n"
     ]
    }
   ],
   "source": [
    "# create an float datatype\n",
    "float_1=20.38\n",
    "\n",
    "#store the datatype\n",
    "print('datatype of the variable ',type(float_1))"
   ]
  },
  {
   "cell_type": "code",
   "execution_count": 6,
   "id": "a5023e15-8a88-4c2d-81bc-9463ebc7283e",
   "metadata": {},
   "outputs": [
    {
     "name": "stdout",
     "output_type": "stream",
     "text": [
      "datatype of the variable  <class 'str'>\n"
     ]
    }
   ],
   "source": [
    "# create an string datatype\n",
    "string_1='Gopal'\n",
    "\n",
    "#store the datatype\n",
    "print('datatype of the variable ',type(string_1))"
   ]
  },
  {
   "cell_type": "code",
   "execution_count": 7,
   "id": "98b6f1cc-6c0b-4a8b-a32e-63a9486f48be",
   "metadata": {},
   "outputs": [
    {
     "name": "stdout",
     "output_type": "stream",
     "text": [
      "datatype of the variable  <class 'list'>\n",
      "datatype of the variable  <class 'list'>\n",
      "datatype of the variable  <class 'list'>\n"
     ]
    }
   ],
   "source": [
    "# create an list\n",
    "list_1=[10,20,30,40,50]\n",
    "list_2=[10.38,20.46,30.39,40.68]\n",
    "list_3=['Gopal','Nirmal','Nandhini','pooja']\n",
    "\n",
    "#store the datatype\n",
    "print('datatype of the variable ',type(list_1))\n",
    "print('datatype of the variable ',type(list_2))\n",
    "print('datatype of the variable ',type(list_3))"
   ]
  },
  {
   "cell_type": "code",
   "execution_count": 8,
   "id": "7a96a541-6722-448c-91d8-63ebd21a13f5",
   "metadata": {},
   "outputs": [
    {
     "name": "stdout",
     "output_type": "stream",
     "text": [
      "datatype of the variable  <class 'tuple'>\n",
      "datatype of the variable  <class 'tuple'>\n",
      "datatype of the variable  <class 'tuple'>\n"
     ]
    }
   ],
   "source": [
    "# create an tuple\n",
    "tuple_1=(10,20,30,40,50)\n",
    "tuple_2=(10.38,20.46,30.39,40.68)\n",
    "tuple_3=('Gopal','Nirmal','Nandhini','pooja')\n",
    "\n",
    "#store the datatype\n",
    "print('datatype of the variable ',type(tuple_1))\n",
    "print('datatype of the variable ',type(tuple_2))\n",
    "print('datatype of the variable ',type(tuple_3))"
   ]
  },
  {
   "cell_type": "code",
   "execution_count": 9,
   "id": "8da243b6-c15e-4381-9691-d62f5b0f3f19",
   "metadata": {},
   "outputs": [
    {
     "name": "stdout",
     "output_type": "stream",
     "text": [
      "datatype of the variable  <class 'set'>\n",
      "datatype of the variable  <class 'set'>\n",
      "datatype of the variable  <class 'set'>\n"
     ]
    }
   ],
   "source": [
    "# create an set\n",
    "set_1={10,20,30,40,50}\n",
    "set_2={10.38,20.46,30.39,40.68}\n",
    "set_3={'Gopal','Nirmal','Nandhini','pooja'}\n",
    "\n",
    "#store the datatype\n",
    "print('datatype of the variable ',type(set_1))\n",
    "print('datatype of the variable ',type(set_2))\n",
    "print('datatype of the variable ',type(set_3))"
   ]
  },
  {
   "cell_type": "code",
   "execution_count": 10,
   "id": "d369fa72-47db-4f6c-9971-9e8086a44716",
   "metadata": {},
   "outputs": [
    {
     "name": "stdout",
     "output_type": "stream",
     "text": [
      "datatype of the variable  <class 'bool'>\n",
      "datatype of the variable  <class 'bool'>\n"
     ]
    }
   ],
   "source": [
    "# create an boolean datatype\n",
    "boolean_1=True\n",
    "boolean_2=False\n",
    "\n",
    "#store the datatype\n",
    "print('datatype of the variable ',type(boolean_1))\n",
    "print('datatype of the variable ',type(boolean_2))"
   ]
  },
  {
   "cell_type": "code",
   "execution_count": 11,
   "id": "a976d9c2-9378-4a86-9d89-733ae0d2bb33",
   "metadata": {},
   "outputs": [
    {
     "name": "stdout",
     "output_type": "stream",
     "text": [
      "datatype of the variable  <class 'dict'>\n"
     ]
    }
   ],
   "source": [
    "# create an dictionary\n",
    "dictionary_1={'list_1':[10,20,30,40,50],\n",
    "             'tuple_1':(10,20,30,40,50),\n",
    "             'set_1':{10,20,30,40,50}}\n",
    "\n",
    "#store the datatype\n",
    "print('datatype of the variable ',type(dictionary_1))\n"
   ]
  },
  {
   "cell_type": "markdown",
   "id": "fa4e6d77-62bb-4553-a858-6ac56abe3000",
   "metadata": {},
   "source": [
    "# Basic Operation"
   ]
  },
  {
   "cell_type": "code",
   "execution_count": 13,
   "id": "f23d46f4-d897-4fde-9558-849438894e0e",
   "metadata": {},
   "outputs": [
    {
     "name": "stdout",
     "output_type": "stream",
     "text": [
      "datatype of the variable  <class 'float'>\n",
      "datatype of the variable  <class 'int'>\n"
     ]
    }
   ],
   "source": [
    "# Task 1:type casting\n",
    "float_2=45.96\n",
    "\n",
    "# show the datatype\n",
    "print('datatype of the variable ',type(float_2))\n",
    "\n",
    "# do the typecasting\n",
    "int_2=int(float_2)\n",
    "\n",
    "# show the datatype\n",
    "print('datatype of the variable ',type(int_2))\n"
   ]
  },
  {
   "cell_type": "code",
   "execution_count": 14,
   "id": "fc81fe96-ceab-4dd2-9005-d032ad371487",
   "metadata": {},
   "outputs": [
    {
     "name": "stdout",
     "output_type": "stream",
     "text": [
      "datatype of the variable  <class 'int'>\n",
      "datatype of the variable  <class 'float'>\n"
     ]
    }
   ],
   "source": [
    "# Task 1:type casting\n",
    "int_3=5\n",
    "\n",
    "# show the datatype\n",
    "print('datatype of the variable ',type(int_3))\n",
    "\n",
    "# do the typecasting\n",
    "float_3=float(int_3)\n",
    "\n",
    "# show the datatype\n",
    "print('datatype of the variable ',type(float_3))\n"
   ]
  },
  {
   "cell_type": "code",
   "execution_count": 15,
   "id": "64bd4236-881b-4938-80be-7a3899b99452",
   "metadata": {},
   "outputs": [
    {
     "name": "stdout",
     "output_type": "stream",
     "text": [
      "rounded values are: 10.123\n"
     ]
    }
   ],
   "source": [
    "# Task 2:use of round function\n",
    "float_4=10.1234567890\n",
    "\n",
    "#round the value till three decimal places\n",
    "rounded_value=round(float_4,3)\n",
    "\n",
    "#show the output\n",
    "print('rounded values are:',rounded_value)"
   ]
  },
  {
   "cell_type": "markdown",
   "id": "097745c7-12ce-4460-9a0f-af34dd8751b5",
   "metadata": {},
   "source": [
    "# Arithmetic Operations on a Data"
   ]
  },
  {
   "cell_type": "code",
   "execution_count": 17,
   "id": "c154c8d6-607e-44f7-b7b3-74a71d724b12",
   "metadata": {},
   "outputs": [
    {
     "name": "stdout",
     "output_type": "stream",
     "text": [
      "Addition of two variables: 30\n"
     ]
    }
   ],
   "source": [
    "#addition operation\n",
    "#declare the variable\n",
    "a=10\n",
    "b=20\n",
    "#perform the sum\n",
    "sum_1=a+b\n",
    "#show the output\n",
    "print('Addition of two variables:',sum_1)"
   ]
  },
  {
   "cell_type": "code",
   "execution_count": 18,
   "id": "df56e516-fff5-4542-8b8f-06e7f9dcef06",
   "metadata": {},
   "outputs": [
    {
     "name": "stdout",
     "output_type": "stream",
     "text": [
      "Subtraction of two variables: 10\n"
     ]
    }
   ],
   "source": [
    "# subtraction operation\n",
    "# declare the variable\n",
    "a=10\n",
    "b=20\n",
    "#perform subtraction opewration\n",
    "sub_1=b-a\n",
    "#show the output\n",
    "print('Subtraction of two variables:',sub_1)"
   ]
  },
  {
   "cell_type": "code",
   "execution_count": 19,
   "id": "eb8644c4-bc02-4db7-be33-5c994795141f",
   "metadata": {},
   "outputs": [
    {
     "name": "stdout",
     "output_type": "stream",
     "text": [
      "Division of two variables: 5.0\n"
     ]
    }
   ],
   "source": [
    "# division operation\n",
    "# declare the variable\n",
    "a=50\n",
    "b=10\n",
    "#perform subtraction opewration\n",
    "div_1=a/b\n",
    "#show the output\n",
    "print('Division of two variables:',div_1)"
   ]
  },
  {
   "cell_type": "code",
   "execution_count": 20,
   "id": "4a38bb2b-fe44-40da-8c49-87a218da2f31",
   "metadata": {},
   "outputs": [
    {
     "name": "stdout",
     "output_type": "stream",
     "text": [
      "multiplicationof two variables: 200\n"
     ]
    }
   ],
   "source": [
    "# multiplication operation\n",
    "# declare the variable\n",
    "a=10\n",
    "b=20\n",
    "#perform subtraction opewration\n",
    "mul_1=a*b\n",
    "#show the output\n",
    "print('multiplicationof two variables:',mul_1)"
   ]
  },
  {
   "cell_type": "markdown",
   "id": "31d18396-0699-4e0c-9007-e8fef9ccd653",
   "metadata": {},
   "source": [
    "# user defined function"
   ]
  },
  {
   "cell_type": "code",
   "execution_count": 22,
   "id": "f598cb1f-09ac-456f-8638-f0e388b88c95",
   "metadata": {},
   "outputs": [
    {
     "data": {
      "text/plain": [
       "30"
      ]
     },
     "execution_count": 22,
     "metadata": {},
     "output_type": "execute_result"
    }
   ],
   "source": [
    "#declare the function named as'summation',who can pertform addition in  two numbers\n",
    "def summation():\n",
    "    x=10\n",
    "    y=20\n",
    "    summation=x+y\n",
    "    return summation\n",
    "\n",
    "# call the function \n",
    "summation()"
   ]
  },
  {
   "cell_type": "code",
   "execution_count": 23,
   "id": "6581aa42-3ca2-47b5-b2f6-7e5f0bb02e67",
   "metadata": {},
   "outputs": [
    {
     "data": {
      "text/plain": [
       "10"
      ]
     },
     "execution_count": 23,
     "metadata": {},
     "output_type": "execute_result"
    }
   ],
   "source": [
    "# declare the function named as 'subtraction',\n",
    "# who can perform subtraction between two variables\n",
    "\n",
    "def subtraction():\n",
    "    x=20\n",
    "    y=10\n",
    "    subtraction=x-y\n",
    "    return subtraction\n",
    "\n",
    "# call the function \n",
    "subtraction()"
   ]
  },
  {
   "cell_type": "code",
   "execution_count": 24,
   "id": "468e1d86-d8fe-43ae-9ef8-0ff586556d27",
   "metadata": {},
   "outputs": [
    {
     "name": "stdin",
     "output_type": "stream",
     "text": [
      "Enter the value a: 10\n",
      "Enter the value b: 20\n"
     ]
    },
    {
     "data": {
      "text/plain": [
       "200"
      ]
     },
     "execution_count": 24,
     "metadata": {},
     "output_type": "execute_result"
    }
   ],
   "source": [
    "# declare the function named as 'multiplication',\n",
    "# who can perform multiplication between two variables\n",
    "\n",
    "def multiplication():\n",
    "    x=int(input(\"Enter the value a:\"))\n",
    "    y=int(input(\"Enter the value b:\"))\n",
    "    multiplication=x*y\n",
    "    return multiplication\n",
    "\n",
    "# call the function \n",
    "multiplication()"
   ]
  },
  {
   "cell_type": "code",
   "execution_count": 25,
   "id": "4198bdf0-f803-4462-ba58-3fd2145cd7b4",
   "metadata": {},
   "outputs": [
    {
     "data": {
      "text/plain": [
       "2.0"
      ]
     },
     "execution_count": 25,
     "metadata": {},
     "output_type": "execute_result"
    }
   ],
   "source": [
    "# declare the function named as 'division',\n",
    "# who can perform division between two variables\n",
    "\n",
    "def division():\n",
    "    x=20\n",
    "    y=10\n",
    "    division=x/y\n",
    "    return division\n",
    "\n",
    "# call the function \n",
    "division()"
   ]
  },
  {
   "cell_type": "code",
   "execution_count": null,
   "id": "54d02a40-84a6-4980-98f5-9067b744ea10",
   "metadata": {},
   "outputs": [],
   "source": []
  }
 ],
 "metadata": {
  "kernelspec": {
   "display_name": "Python 3 (ipykernel)",
   "language": "python",
   "name": "python3"
  },
  "language_info": {
   "codemirror_mode": {
    "name": "ipython",
    "version": 3
   },
   "file_extension": ".py",
   "mimetype": "text/x-python",
   "name": "python",
   "nbconvert_exporter": "python",
   "pygments_lexer": "ipython3",
   "version": "3.11.7"
  }
 },
 "nbformat": 4,
 "nbformat_minor": 5
}
